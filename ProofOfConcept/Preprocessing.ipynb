{
 "cells": [
  {
   "cell_type": "markdown",
   "id": "752e1305-c126-479b-bb2d-33e882254e49",
   "metadata": {},
   "source": [
    "# Preprocessing\n",
    "This file is used to modify the input data, including cleaning the data, generating multiple choices and stuff"
   ]
  },
  {
   "cell_type": "markdown",
   "id": "5b13a898-7085-4a4d-a6d8-0111ba4c92f4",
   "metadata": {
    "collapsed": true,
    "jupyter": {
     "outputs_hidden": true
    }
   },
   "source": [
    "## Load dataset\n",
    "Loading the dataset from hugging face doesn't work, the github for the dataset (and the paper) is here: \n",
    "\n",
    "'''\n",
    "[https://github.com/aviaefrat/cryptonite](https://github.com/aviaefrat/cryptonite)\n",
    "'''   \n",
    "\n",
    "So we will use huggingface's load_dataset to load the downloaded jsonl files.  \n",
    "*2024.06.06*  \n",
    "I encountered a problem: in the field \"number\" of the data, there are a few rows with string format. so what we will do first is to change the string back to int, so that the load_dataset for hugging face can run. \n",
    "*2024.06.09* \n",
    "I realize that there is a problem, every input should be in string format, so we should actually do the opposite"
   ]
  },
  {
   "cell_type": "code",
   "execution_count": 5,
   "id": "a553a2c7-5e05-4f41-b836-b6cb7be2850a",
   "metadata": {},
   "outputs": [],
   "source": [
    "import json\n",
    "\n",
    "\n",
    "def reformat_data(file_path):\n",
    "    modified_lines = []\n",
    "    # Read the JSONL file\n",
    "    with open(file_path, 'r') as file:\n",
    "        for line in file:\n",
    "            # Parse the JSON object from the line\n",
    "            data = json.loads(line)\n",
    "    \n",
    "            if isinstance(data['number'], str):\n",
    "                # Cast numerical part to integer so that we can make sure the format is right\n",
    "                numerical_part = ''.join(filter(str.isdigit, data['number']))\n",
    "                number_value = int(numerical_part)\n",
    "                data['number'] = str(number_value)\n",
    "            else:\n",
    "                # directly cast to string\n",
    "                data['number'] = str(data['number'])\n",
    "            # Append modified line to the list\n",
    "            modified_lines.append(json.dumps(data) + '\\n')\n",
    "    # Write modified lines back to the original file\n",
    "    with open(file_path, 'w') as file:\n",
    "        file.writelines(modified_lines)\n",
    "\n",
    "\n",
    "train_fp = '../datasets/cryptonite-official-split/cryptonite-train.jsonl'\n",
    "val_fp = \"../datasets/cryptonite-official-split/cryptonite-val.jsonl\"\n",
    "test_fp = '../datasets/cryptonite-official-split/cryptonite-test.jsonl'\n",
    "for file_path in [train_fp, val_fp, test_fp]:\n",
    "    reformat_data(file_path)\n"
   ]
  },
  {
   "cell_type": "markdown",
   "id": "a72e65ad-066f-4917-8b47-9ae631f259b9",
   "metadata": {},
   "source": [
    "## Add multiple choice\n",
    "Beside from the answer, what can be other choices? We know that there are indication of words, for example:  \n",
    "*the banners supporting strike were featured prominently (3,3,9)*\n",
    "Indicates that the answer is three words, the first word have 3 letters, the second word have 3 letters, and third 9. So what we can do is at least simulate this. We will pick random three words with (3,3,9) letters. "
   ]
  },
  {
   "cell_type": "markdown",
   "id": "20f7bb8d-26a7-4b9e-8903-f0868fb872ac",
   "metadata": {},
   "source": [
    "First we build a function that can randomly select a word of given length"
   ]
  },
  {
   "cell_type": "code",
   "execution_count": 6,
   "id": "4d236baa-facc-4721-adce-6068e42f5e0c",
   "metadata": {},
   "outputs": [],
   "source": [
    "# !pip install nltk"
   ]
  },
  {
   "cell_type": "code",
   "execution_count": 7,
   "id": "70fb82d5-20db-4aff-875a-e3489d683fb3",
   "metadata": {},
   "outputs": [
    {
     "name": "stdout",
     "output_type": "stream",
     "text": [
      "Random word of shape (3,3,9): aho nix unplainly\n"
     ]
    }
   ],
   "source": [
    "import nltk\n",
    "import random\n",
    "\n",
    "from nltk.corpus import words\n",
    "\n",
    "# Load the word list\n",
    "word_list = words.words()\n",
    "\n",
    "dic_word_by_length = {}\n",
    "# initialize max_word_len sets: set i have all the words of length i\n",
    "max_word_len = 35\n",
    "for length in range(1, max_word_len):\n",
    "    # make it a list because we want to random select later\n",
    "    dic_word_by_length[length] = [word for word in word_list if len(word) == length]\n",
    "# apparently there is an extreme case:\n",
    "dic_word_by_length[0] = ['']\n",
    "    \n",
    "# Function to get a random word of specific length\n",
    "def get_random_word_of_length(length):\n",
    "    filtered_words = dic_word_by_length[length]\n",
    "    if not filtered_words:\n",
    "        return None\n",
    "    return random.choice(filtered_words)\n",
    "\n",
    "def get_random_phrase_of_shape(choice_shape):\n",
    "    if isinstance(choice_shape, int):\n",
    "        choice_shape = (choice_shape,)\n",
    "    # assume choice_shape is a tuple\n",
    "    words = []\n",
    "    for length in choice_shape:\n",
    "        assert length >= 0\n",
    "        word = get_random_word_of_length(length)\n",
    "        assert word is not None\n",
    "        words.append(word)\n",
    "    phrase = \" \".join(words)\n",
    "    return phrase\n",
    "    \n",
    "# Example: Get a random 9-letter word\n",
    "random_phrase = get_random_phrase_of_shape((3,3,9))\n",
    "print(\"Random word of shape (3,3,9):\", random_phrase)"
   ]
  },
  {
   "cell_type": "markdown",
   "id": "1c214459-b18d-4805-aeaa-6b5e7e379eb6",
   "metadata": {},
   "source": [
    "Then we iterate through the data, and give it three random choices that fits the shape in the cue, in addition to the right choice. "
   ]
  },
  {
   "cell_type": "code",
   "execution_count": 8,
   "id": "35fb40b2-f9b2-4d24-bd31-72b4eb027792",
   "metadata": {},
   "outputs": [],
   "source": [
    "import ast\n",
    "import json\n",
    "\n",
    "def add_n_choices(original_file_path, modified_file_path, n=3):\n",
    "    modified_lines = []\n",
    "    # Read the JSONL file\n",
    "    with open(original_file_path, 'r') as file:\n",
    "        for line in file:\n",
    "            # Parse the JSON object from the line\n",
    "            data = json.loads(line)\n",
    "            choice_shape = ast.literal_eval(data['enumeration'])\n",
    "            for i in range(1, n + 1):\n",
    "                data[f\"choice{i}\"] = get_random_phrase_of_shape(choice_shape)\n",
    "            # Append modified line to the list\n",
    "            modified_lines.append(json.dumps(data) + '\\n')\n",
    "    # Write modified lines back to the original file\n",
    "    with open(modified_file_path, 'w') as file:\n",
    "        file.writelines(modified_lines)\n",
    "\n",
    "\n",
    "train_fp = '../datasets/cryptonite-official-split/cryptonite-train.jsonl'\n",
    "val_fp = \"../datasets/cryptonite-official-split/cryptonite-val.jsonl\"\n",
    "test_fp = '../datasets/cryptonite-official-split/cryptonite-test.jsonl'\n",
    "\n",
    "modified_train_fp = 'processed_dataset/cryptonite-train-choice.jsonl'\n",
    "modified_val_fp = \"processed_dataset/cryptonite-val-choice.jsonl\"\n",
    "modified_test_fp = 'processed_dataset/cryptonite-test-choice.jsonl'\n",
    "for original_file_path, modified_file_path in [(train_fp, modified_train_fp), (val_fp, modified_val_fp), (test_fp, modified_test_fp) ]:\n",
    "    add_n_choices(original_file_path, modified_file_path)"
   ]
  },
  {
   "cell_type": "code",
   "execution_count": null,
   "id": "75411c03-09b8-4024-aacc-1886d3da7cc1",
   "metadata": {},
   "outputs": [],
   "source": []
  },
  {
   "cell_type": "code",
   "execution_count": null,
   "id": "c37da22b-caaa-49fd-bcaf-91ae8605a3c4",
   "metadata": {},
   "outputs": [],
   "source": []
  },
  {
   "cell_type": "code",
   "execution_count": null,
   "id": "c5680505-5519-414f-885f-bc46b62a97b8",
   "metadata": {},
   "outputs": [],
   "source": []
  },
  {
   "cell_type": "code",
   "execution_count": null,
   "id": "9ca46e30-8836-4dd2-acfe-2e7460326341",
   "metadata": {},
   "outputs": [],
   "source": []
  }
 ],
 "metadata": {
  "kernelspec": {
   "display_name": "Python 3 (ipykernel)",
   "language": "python",
   "name": "python3"
  },
  "language_info": {
   "codemirror_mode": {
    "name": "ipython",
    "version": 3
   },
   "file_extension": ".py",
   "mimetype": "text/x-python",
   "name": "python",
   "nbconvert_exporter": "python",
   "pygments_lexer": "ipython3",
   "version": "3.12.0"
  }
 },
 "nbformat": 4,
 "nbformat_minor": 5
}
